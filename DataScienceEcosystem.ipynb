{
 "cells": [
  {
   "cell_type": "markdown",
   "id": "2769ff0e-9c19-4fb5-a90d-ec64d6b99463",
   "metadata": {},
   "source": [
    "# Data Science Tools and Ecosystems\n",
    "\n",
    "In this notebook, Data Science Tools and Ecosystems are summarized."
   ]
  },
  {
   "cell_type": "code",
   "execution_count": null,
   "id": "debd9d61-3902-44ce-b2eb-2db42fa73999",
   "metadata": {},
   "outputs": [],
   "source": []
  }
 ],
 "metadata": {
  "kernelspec": {
   "display_name": "Python 3 (ipykernel)",
   "language": "python",
   "name": "python3"
  },
  "language_info": {
   "codemirror_mode": {
    "name": "ipython",
    "version": 3
   },
   "file_extension": ".py",
   "mimetype": "text/x-python",
   "name": "python",
   "nbconvert_exporter": "python",
   "pygments_lexer": "ipython3",
   "version": "3.12.4"
  }
 },
 "nbformat": 4,
 "nbformat_minor": 5
}
