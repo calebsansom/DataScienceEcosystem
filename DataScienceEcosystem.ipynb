{
 "cells": [
  {
   "cell_type": "markdown",
   "id": "2769ff0e-9c19-4fb5-a90d-ec64d6b99463",
   "metadata": {},
   "source": [
    "# Data Science Tools and Ecosystems\n",
    "\n",
    "In this notebook, Data Science Tools and Ecosystems are summarized."
   ]
  },
  {
   "cell_type": "markdown",
   "id": "5fedfad3-fc59-411a-a4f5-203fb456461a",
   "metadata": {},
   "source": [
    "## Author\n",
    "Caleb Sansom"
   ]
  },
  {
   "cell_type": "markdown",
   "id": "b20af318-b43b-4424-91e1-0433a78f7a9b",
   "metadata": {},
   "source": [
    "*Objectives:\n",
    "- Show understanding of how to create a table\n",
    "- Implement simple arithmetic coding\n",
    "- Make comments in code cells"
   ]
  },
  {
   "cell_type": "markdown",
   "id": "28a24fb8-36af-4fea-8111-43d75e8a61f6",
   "metadata": {},
   "source": [
    "Some of the popular languages that Data Scientists use are:\n",
    "1. Python\n",
    "2. R\n",
    "3. SQL"
   ]
  },
  {
   "cell_type": "markdown",
   "id": "dd9829d6-89c2-4e06-a187-37a47c6e6b9a",
   "metadata": {},
   "source": [
    "Some of the commonly used libraries used by Data Scientists include:\n",
    "1. NumPy\n",
    "2. Pandas\n",
    "3. Plotly"
   ]
  },
  {
   "cell_type": "markdown",
   "id": "1050f029-5866-4144-90fe-74183e7f8574",
   "metadata": {},
   "source": [
    "|Data Science Tools|\n",
    "-\n",
    "|MySQL|\n",
    "|NoSQL|\n",
    "|MongoDB|"
   ]
  },
  {
   "cell_type": "markdown",
   "id": "3d24d712-5aee-48ca-a654-14b376dae871",
   "metadata": {},
   "source": [
    "### Below are a few examples of evaluating arithmetic expressions in Python"
   ]
  },
  {
   "cell_type": "code",
   "execution_count": 19,
   "id": "46e17188-7f9f-4300-892c-70cc4a50c38c",
   "metadata": {},
   "outputs": [
    {
     "data": {
      "text/plain": [
       "17"
      ]
     },
     "execution_count": 19,
     "metadata": {},
     "output_type": "execute_result"
    }
   ],
   "source": [
    "#This is a simple arithmetic expression to multiple then add integers\n",
    "(3*4)+5\n"
   ]
  },
  {
   "cell_type": "code",
   "execution_count": 21,
   "id": "b92e2621-130f-4980-b37a-8fbca3028275",
   "metadata": {},
   "outputs": [
    {
     "data": {
      "text/plain": [
       "3.3333333333333335"
      ]
     },
     "execution_count": 21,
     "metadata": {},
     "output_type": "execute_result"
    }
   ],
   "source": [
    "#This will convert 200 minutes to hours by dividing by 60\n",
    "200/60"
   ]
  },
  {
   "cell_type": "code",
   "execution_count": null,
   "id": "a78e4a7c-ddd8-4a3f-8edc-26663c0f6d4e",
   "metadata": {},
   "outputs": [],
   "source": []
  }
 ],
 "metadata": {
  "kernelspec": {
   "display_name": "Python 3 (ipykernel)",
   "language": "python",
   "name": "python3"
  },
  "language_info": {
   "codemirror_mode": {
    "name": "ipython",
    "version": 3
   },
   "file_extension": ".py",
   "mimetype": "text/x-python",
   "name": "python",
   "nbconvert_exporter": "python",
   "pygments_lexer": "ipython3",
   "version": "3.12.4"
  }
 },
 "nbformat": 4,
 "nbformat_minor": 5
}
